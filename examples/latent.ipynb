{
 "cells": [
  {
   "cell_type": "markdown",
   "metadata": {},
   "source": [
    "# State-space analyses\n",
    "\n",
    "Written by Ladislas Nalborczyk (ladislas.nalborczyk@gmail.com). Last updated on February 1, 2024."
   ]
  },
  {
   "cell_type": "code",
   "execution_count": 15,
   "metadata": {},
   "outputs": [],
   "source": [
    "# !yes | pip uninstall meg_decoding_tools\n",
    "# ! pip install git+https://github.com/lnalborczyk/meg_decoding_tools\n",
    "# ! pip install git+https://github.com/mitchellostrow/DSA"
   ]
  },
  {
   "cell_type": "code",
   "execution_count": null,
   "metadata": {},
   "outputs": [],
   "source": [
    "import mne\n",
    "import numpy as np\n",
    "from meeg.latent import compare_pca_through_time"
   ]
  },
  {
   "cell_type": "code",
   "execution_count": null,
   "metadata": {},
   "outputs": [
    {
     "name": "stdout",
     "output_type": "stream",
     "text": [
      "Reading /Users/ladislas/Desktop/meg_decoding_tools/examples/../src/meeg/data/visual_4l2s-epo.fif ...\n"
     ]
    },
    {
     "name": "stdout",
     "output_type": "stream",
     "text": [
      "    Found the data of interest:\n",
      "        t =    -200.00 ...     800.00 ms\n",
      "        0 CTF compensation matrices available\n",
      "Adding metadata with 13 columns\n",
      "160 matching events found\n",
      "No baseline correction applied\n",
      "0 projection items activated\n",
      "Reading /Users/ladislas/Desktop/meg_decoding_tools/examples/../src/meeg/data/visual_7l2s-epo.fif ...\n",
      "    Found the data of interest:\n",
      "        t =    -200.00 ...     800.00 ms\n",
      "        0 CTF compensation matrices available\n",
      "Adding metadata with 13 columns\n",
      "159 matching events found\n",
      "No baseline correction applied\n",
      "0 projection items activated\n"
     ]
    }
   ],
   "source": [
    "# importing the examplary data (MNE epochs of MEG data)\n",
    "visual_4l2s = mne.read_epochs(\"../src/meeg/data/visual_4l2s-epo.fif\")\n",
    "visual_7l2s = mne.read_epochs(\"../src/meeg/data/visual_7l2s-epo.fif\")"
   ]
  },
  {
   "cell_type": "code",
   "execution_count": null,
   "metadata": {},
   "outputs": [
    {
     "name": "stdout",
     "output_type": "stream",
     "text": [
      "Adding metadata with 13 columns\n",
      "319 matching events found\n",
      "No baseline correction applied\n",
      "Original shape of the MEG data: (319, 306, 251)\n",
      "Length of the labels to be predicted: 319\n"
     ]
    },
    {
     "name": "stderr",
     "output_type": "stream",
     "text": [
      "/Users/ladislas/Desktop/meg_decoding_tools/.venv/lib/python3.10/site-packages/meeg/decoding/prepare.py:170: FutureWarning: The current default of copy=False will change to copy=True in 1.7. Set the value of copy explicitly to avoid this warning\n",
      "  X = epochs.get_data()\n"
     ]
    },
    {
     "name": "stdout",
     "output_type": "stream",
     "text": [
      "Moving average applied with kernel size: 5\n",
      "PCA explained variance:0.989\n"
     ]
    }
   ],
   "source": [
    "# computing average neural trajectories (and across-trial SD) in a common PCA space\n",
    "epochs1_pca, epochs1_pca_std, epochs2_pca, epochs2_pca_std = compare_pca_through_time(visual_4l2s, visual_7l2s, n_components=10)"
   ]
  },
  {
   "cell_type": "code",
   "execution_count": null,
   "metadata": {},
   "outputs": [],
   "source": [
    "from meeg.plots import compare_neural_trajectories_2d\n",
    "\n",
    "compare_neural_trajectories_2d(\n",
    "    x_pca1=epochs1_pca, x_pca2=epochs2_pca,\n",
    "    x_pca_std1=epochs1_pca_std, x_pca_std2=epochs2_pca_std,\n",
    "    fs=1/250,\n",
    "    plot_title=\"Neural trajectories through the entire trial\")"
   ]
  },
  {
   "cell_type": "code",
   "execution_count": null,
   "metadata": {},
   "outputs": [],
   "source": []
  }
 ],
 "metadata": {
  "kernelspec": {
   "display_name": ".venv",
   "language": "python",
   "name": "python3"
  },
  "language_info": {
   "codemirror_mode": {
    "name": "ipython",
    "version": 3
   },
   "file_extension": ".py",
   "mimetype": "text/x-python",
   "name": "python",
   "nbconvert_exporter": "python",
   "pygments_lexer": "ipython3",
   "version": "3.10.0"
  }
 },
 "nbformat": 4,
 "nbformat_minor": 2
}
