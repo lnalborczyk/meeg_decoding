{
 "cells": [
  {
   "cell_type": "markdown",
   "metadata": {},
   "source": [
    "# Group-level testing via Bayes factors\n",
    "\n",
    "Written by Ladislas Nalborczyk (ladislas.nalborczyk@gmail.com). Last updated on February 9, 2024."
   ]
  },
  {
   "cell_type": "code",
   "execution_count": 15,
   "metadata": {},
   "outputs": [],
   "source": [
    "# !yes | pip uninstall meeg_decoding\n",
    "# ! pip install git+https://github.com/lnalborczyk/meeg_decoding\n",
    "# ! pip install git+https://github.com/mitchellostrow/DSA"
   ]
  },
  {
   "cell_type": "code",
   "execution_count": 16,
   "metadata": {},
   "outputs": [],
   "source": [
    "import mne\n",
    "import numpy as np\n",
    "from meeg.decoding import time_decode\n",
    "from meeg.decoding import prep_data_for_decoding\n",
    "from meeg.plots import plotting_decoding_scores"
   ]
  },
  {
   "cell_type": "code",
   "execution_count": null,
   "metadata": {},
   "outputs": [],
   "source": [
    "# importing the examplary data (MNE epochs of MEG data)\n",
    "visual_4l2s = mne.read_epochs(\"../src/meeg/data/visual_4l2s-epo.fif\")\n",
    "visual_7l2s = mne.read_epochs(\"../src/meeg/data/visual_7l2s-epo.fif\")"
   ]
  },
  {
   "cell_type": "code",
   "execution_count": null,
   "metadata": {},
   "outputs": [],
   "source": [
    "import glob\n",
    "from meeg.stats import bf_testing_time_decod\n",
    "\n",
    "# listing all relevant npy files (i.e., individual-level decoding accuracies through time)\n",
    "npy_files = glob.glob(\"some_directory/\"+\"*.npy\")\n",
    "\n",
    "# initialising an empty list to store the arrays\n",
    "scores_arr = []\n",
    "\n",
    "for i in npy_files:\n",
    "\n",
    "    decoding_results_temp = np.load(i)\n",
    "    scores_arr.append(np.mean(decoding_results_temp, axis=0))\n",
    "\n",
    "\n",
    "# converting back to numpy array\n",
    "scores = np.vstack(scores_arr)\n",
    "\n",
    "# sanity check (should be of shape n_participants x n_time_steps)\n",
    "print(\"shape of aggregated scores:\", scores.shape)"
   ]
  },
  {
   "cell_type": "code",
   "execution_count": null,
   "metadata": {},
   "outputs": [],
   "source": [
    "# computing the BFs for each time step\n",
    "bfs = bf_testing_time_decod(scores=scores, ncores=4)"
   ]
  },
  {
   "cell_type": "code",
   "execution_count": null,
   "metadata": {},
   "outputs": [],
   "source": [
    "# decoding accuracy through time with BFs\n",
    "from meeg.plots import bf_testing_time_decod\n",
    "\n",
    "# plotting the BFs for each time step\n",
    "bf_testing_time_decod(scores, bfs, plot_title=\"Sensor space decoding\")"
   ]
  }
 ],
 "metadata": {
  "kernelspec": {
   "display_name": ".venv",
   "language": "python",
   "name": "python3"
  },
  "language_info": {
   "codemirror_mode": {
    "name": "ipython",
    "version": 3
   },
   "file_extension": ".py",
   "mimetype": "text/x-python",
   "name": "python",
   "nbconvert_exporter": "python",
   "pygments_lexer": "ipython3",
   "version": "3.10.0"
  }
 },
 "nbformat": 4,
 "nbformat_minor": 2
}
