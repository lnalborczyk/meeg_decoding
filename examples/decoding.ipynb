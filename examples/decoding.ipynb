{
 "cells": [
  {
   "cell_type": "markdown",
   "metadata": {},
   "source": [
    "# A simple decoding example\n",
    "\n",
    "Written by Ladislas Nalborczyk (ladislas.nalborczyk@gmail.com)  \n",
    "Last updated on Feburary 1, 2024"
   ]
  },
  {
   "cell_type": "code",
   "execution_count": 3,
   "metadata": {},
   "outputs": [
    {
     "name": "stdout",
     "output_type": "stream",
     "text": [
      "Collecting git+https://github.com/lnalborczyk/meg_decoding_tools\n",
      "  Cloning https://github.com/lnalborczyk/meg_decoding_tools to /private/var/folders/yp/p14xyqpj5l3bnhqhhfk5qhqr0000gn/T/pip-req-build-4wllitqr\n",
      "  Running command git clone --filter=blob:none --quiet https://github.com/lnalborczyk/meg_decoding_tools /private/var/folders/yp/p14xyqpj5l3bnhqhhfk5qhqr0000gn/T/pip-req-build-4wllitqr\n"
     ]
    }
   ],
   "source": [
    "! pip install git+https://github.com/lnalborczyk/meg_decoding_tools"
   ]
  },
  {
   "cell_type": "code",
   "execution_count": 2,
   "metadata": {},
   "outputs": [
    {
     "ename": "ModuleNotFoundError",
     "evalue": "No module named 'meeg'",
     "output_type": "error",
     "traceback": [
      "\u001b[0;31m---------------------------------------------------------------------------\u001b[0m",
      "\u001b[0;31mModuleNotFoundError\u001b[0m                       Traceback (most recent call last)",
      "Cell \u001b[0;32mIn[2], line 3\u001b[0m\n\u001b[1;32m      1\u001b[0m \u001b[38;5;28;01mimport\u001b[39;00m \u001b[38;5;21;01mmne\u001b[39;00m\n\u001b[1;32m      2\u001b[0m \u001b[38;5;28;01mimport\u001b[39;00m \u001b[38;5;21;01mnumpy\u001b[39;00m \u001b[38;5;28;01mas\u001b[39;00m \u001b[38;5;21;01mnp\u001b[39;00m\n\u001b[0;32m----> 3\u001b[0m \u001b[38;5;28;01mfrom\u001b[39;00m \u001b[38;5;21;01mmeeg\u001b[39;00m\u001b[38;5;21;01m.\u001b[39;00m\u001b[38;5;21;01mdecoding\u001b[39;00m \u001b[38;5;28;01mimport\u001b[39;00m time_decode\n\u001b[1;32m      4\u001b[0m \u001b[38;5;28;01mfrom\u001b[39;00m \u001b[38;5;21;01mmeeg\u001b[39;00m\u001b[38;5;21;01m.\u001b[39;00m\u001b[38;5;21;01mdecoding\u001b[39;00m \u001b[38;5;28;01mimport\u001b[39;00m prep_data_for_decoding\n",
      "\u001b[0;31mModuleNotFoundError\u001b[0m: No module named 'meeg'"
     ]
    }
   ],
   "source": [
    "import mne\n",
    "import numpy as np\n",
    "from meeg.decoding import time_decode\n",
    "from meeg.decoding import prep_data_for_decoding"
   ]
  },
  {
   "cell_type": "code",
   "execution_count": null,
   "metadata": {},
   "outputs": [],
   "source": [
    "# importing the examplary data (MNE epochs of MEG data)\n",
    "4l2s_visual = np.load(\"../src/meeg/data/4l2s_visual.npy\")\n",
    "7l2s_visual = np.load(\"../src/meeg/data/7l2s_visual.npy\")"
   ]
  },
  {
   "cell_type": "code",
   "execution_count": null,
   "metadata": {},
   "outputs": [],
   "source": [
    "\n",
    "# for decoding, we'll keep only two categories and concatenate those\n",
    "decoding_epochs = mne.concatenate_epochs(\n",
    "    epochs_list=[4l2s_visual, 7l2s_visual],\n",
    "    add_offset=True, on_mismatch=\"raise\", verbose=None\n",
    "    )\n",
    "\n",
    "# preparing MNE epochs and labels for decoding\n",
    "X, y = prep_data_for_decoding(\n",
    "    epochs=decoding_epochs,\n",
    "    pca=True, n_components=60,\n",
    "    moving_average=True, kernel_size=5,\n",
    "    trials_averaging=False, ntrials=2, shuffling_or_not=True\n",
    ")\n",
    "\n",
    "# decoding time!\n",
    "scores, time_decod = time_decode(meg_data=X, labels=y)"
   ]
  },
  {
   "cell_type": "code",
   "execution_count": 1,
   "metadata": {},
   "outputs": [
    {
     "ename": "ModuleNotFoundError",
     "evalue": "No module named 'meeg'",
     "output_type": "error",
     "traceback": [
      "\u001b[0;31m---------------------------------------------------------------------------\u001b[0m",
      "\u001b[0;31mModuleNotFoundError\u001b[0m                       Traceback (most recent call last)",
      "Cell \u001b[0;32mIn[1], line 1\u001b[0m\n\u001b[0;32m----> 1\u001b[0m \u001b[38;5;28;01mfrom\u001b[39;00m \u001b[38;5;21;01mmeeg\u001b[39;00m\u001b[38;5;21;01m.\u001b[39;00m\u001b[38;5;21;01mplots\u001b[39;00m \u001b[38;5;28;01mimport\u001b[39;00m plotting_decoding_scores\n\u001b[1;32m      3\u001b[0m \u001b[38;5;66;03m# plotting the decoding accuracy over time\u001b[39;00m\n\u001b[1;32m      4\u001b[0m plotting_decoding_scores(\n\u001b[1;32m      5\u001b[0m     decoding_scores\u001b[38;5;241m=\u001b[39mscores,\n\u001b[1;32m      6\u001b[0m     x_ticks\u001b[38;5;241m=\u001b[39mdecoding_epochs\u001b[38;5;241m.\u001b[39mtimes,\n\u001b[1;32m      7\u001b[0m     end_stim\u001b[38;5;241m=\u001b[39m\u001b[38;5;241m0.2\u001b[39m,\n\u001b[1;32m      8\u001b[0m     plot_title\u001b[38;5;241m=\u001b[39m\u001b[38;5;124m\"\u001b[39m\u001b[38;5;124mSensor space decoding\u001b[39m\u001b[38;5;124m\"\u001b[39m\n\u001b[1;32m      9\u001b[0m )\n",
      "\u001b[0;31mModuleNotFoundError\u001b[0m: No module named 'meeg'"
     ]
    }
   ],
   "source": [
    "from meeg.plots import plotting_decoding_scores\n",
    "\n",
    "# plotting the decoding accuracy over time\n",
    "plotting_decoding_scores(\n",
    "    decoding_scores=scores,\n",
    "    x_ticks=decoding_epochs.times,\n",
    "    end_stim=0.2,\n",
    "    plot_title=\"Sensor space decoding\"\n",
    ")"
   ]
  }
 ],
 "metadata": {
  "kernelspec": {
   "display_name": ".venv",
   "language": "python",
   "name": "python3"
  },
  "language_info": {
   "codemirror_mode": {
    "name": "ipython",
    "version": 3
   },
   "file_extension": ".py",
   "mimetype": "text/x-python",
   "name": "python",
   "nbconvert_exporter": "python",
   "pygments_lexer": "ipython3",
   "version": "3.10.0"
  }
 },
 "nbformat": 4,
 "nbformat_minor": 2
}
