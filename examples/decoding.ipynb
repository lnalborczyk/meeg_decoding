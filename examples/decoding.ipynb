{
 "cells": [
  {
   "cell_type": "markdown",
   "metadata": {},
   "source": [
    "# A simple decoding example\n",
    "\n",
    "Written by Ladislas Nalborczyk (ladislas.nalborczyk@gmail.com)  \n",
    "Last updated on February 1, 2024"
   ]
  },
  {
   "cell_type": "code",
   "execution_count": 15,
   "metadata": {},
   "outputs": [
    {
     "name": "stdout",
     "output_type": "stream",
     "text": [
      "Collecting git+https://github.com/lnalborczyk/meg_decoding_tools\n",
      "  Cloning https://github.com/lnalborczyk/meg_decoding_tools to /private/var/folders/yp/p14xyqpj5l3bnhqhhfk5qhqr0000gn/T/pip-req-build-j4gpm6ii\n",
      "  Running command git clone --filter=blob:none --quiet https://github.com/lnalborczyk/meg_decoding_tools /private/var/folders/yp/p14xyqpj5l3bnhqhhfk5qhqr0000gn/T/pip-req-build-j4gpm6ii\n",
      "  Resolved https://github.com/lnalborczyk/meg_decoding_tools to commit 7a7d436a5d6375cefb20a873f3b165c977459a39\n",
      "  Installing build dependencies ... \u001b[?25ldone\n",
      "\u001b[?25h  Getting requirements to build wheel ... \u001b[?25ldone\n",
      "\u001b[?25h  Preparing metadata (pyproject.toml) ... \u001b[?25ldone\n",
      "\u001b[?25hRequirement already satisfied: numpy>=1.21.2 in /Users/ladislas/Desktop/meg_decoding_tools/.venv/lib/python3.10/site-packages (from meg_decoding_tools==0.0.1) (1.26.3)\n",
      "Requirement already satisfied: matplotlib>=3.5.0 in /Users/ladislas/Desktop/meg_decoding_tools/.venv/lib/python3.10/site-packages (from meg_decoding_tools==0.0.1) (3.8.2)\n",
      "Requirement already satisfied: mne in /Users/ladislas/Desktop/meg_decoding_tools/.venv/lib/python3.10/site-packages (from meg_decoding_tools==0.0.1) (1.6.1)\n",
      "Requirement already satisfied: scipy>=1.7.1 in /Users/ladislas/Desktop/meg_decoding_tools/.venv/lib/python3.10/site-packages (from meg_decoding_tools==0.0.1) (1.12.0)\n",
      "Requirement already satisfied: scikit-learn in /Users/ladislas/Desktop/meg_decoding_tools/.venv/lib/python3.10/site-packages (from meg_decoding_tools==0.0.1) (1.4.0)\n",
      "Requirement already satisfied: pandas in /Users/ladislas/Desktop/meg_decoding_tools/.venv/lib/python3.10/site-packages (from meg_decoding_tools==0.0.1) (2.2.0)\n",
      "Requirement already satisfied: seaborn in /Users/ladislas/Desktop/meg_decoding_tools/.venv/lib/python3.10/site-packages (from meg_decoding_tools==0.0.1) (0.13.2)\n",
      "Requirement already satisfied: contourpy>=1.0.1 in /Users/ladislas/Desktop/meg_decoding_tools/.venv/lib/python3.10/site-packages (from matplotlib>=3.5.0->meg_decoding_tools==0.0.1) (1.2.0)\n",
      "Requirement already satisfied: cycler>=0.10 in /Users/ladislas/Desktop/meg_decoding_tools/.venv/lib/python3.10/site-packages (from matplotlib>=3.5.0->meg_decoding_tools==0.0.1) (0.12.1)\n",
      "Requirement already satisfied: fonttools>=4.22.0 in /Users/ladislas/Desktop/meg_decoding_tools/.venv/lib/python3.10/site-packages (from matplotlib>=3.5.0->meg_decoding_tools==0.0.1) (4.47.2)\n",
      "Requirement already satisfied: kiwisolver>=1.3.1 in /Users/ladislas/Desktop/meg_decoding_tools/.venv/lib/python3.10/site-packages (from matplotlib>=3.5.0->meg_decoding_tools==0.0.1) (1.4.5)\n",
      "Requirement already satisfied: packaging>=20.0 in /Users/ladislas/Desktop/meg_decoding_tools/.venv/lib/python3.10/site-packages (from matplotlib>=3.5.0->meg_decoding_tools==0.0.1) (23.2)\n",
      "Requirement already satisfied: pillow>=8 in /Users/ladislas/Desktop/meg_decoding_tools/.venv/lib/python3.10/site-packages (from matplotlib>=3.5.0->meg_decoding_tools==0.0.1) (10.2.0)\n",
      "Requirement already satisfied: pyparsing>=2.3.1 in /Users/ladislas/Desktop/meg_decoding_tools/.venv/lib/python3.10/site-packages (from matplotlib>=3.5.0->meg_decoding_tools==0.0.1) (3.1.1)\n",
      "Requirement already satisfied: python-dateutil>=2.7 in /Users/ladislas/Desktop/meg_decoding_tools/.venv/lib/python3.10/site-packages (from matplotlib>=3.5.0->meg_decoding_tools==0.0.1) (2.8.2)\n",
      "Requirement already satisfied: tqdm in /Users/ladislas/Desktop/meg_decoding_tools/.venv/lib/python3.10/site-packages (from mne->meg_decoding_tools==0.0.1) (4.66.1)\n",
      "Requirement already satisfied: pooch>=1.5 in /Users/ladislas/Desktop/meg_decoding_tools/.venv/lib/python3.10/site-packages (from mne->meg_decoding_tools==0.0.1) (1.8.0)\n",
      "Requirement already satisfied: decorator in /Users/ladislas/Desktop/meg_decoding_tools/.venv/lib/python3.10/site-packages (from mne->meg_decoding_tools==0.0.1) (5.1.1)\n",
      "Requirement already satisfied: jinja2 in /Users/ladislas/Desktop/meg_decoding_tools/.venv/lib/python3.10/site-packages (from mne->meg_decoding_tools==0.0.1) (3.1.3)\n",
      "Requirement already satisfied: lazy-loader>=0.3 in /Users/ladislas/Desktop/meg_decoding_tools/.venv/lib/python3.10/site-packages (from mne->meg_decoding_tools==0.0.1) (0.3)\n",
      "Requirement already satisfied: pytz>=2020.1 in /Users/ladislas/Desktop/meg_decoding_tools/.venv/lib/python3.10/site-packages (from pandas->meg_decoding_tools==0.0.1) (2023.4)\n",
      "Requirement already satisfied: tzdata>=2022.7 in /Users/ladislas/Desktop/meg_decoding_tools/.venv/lib/python3.10/site-packages (from pandas->meg_decoding_tools==0.0.1) (2023.4)\n",
      "Requirement already satisfied: joblib>=1.2.0 in /Users/ladislas/Desktop/meg_decoding_tools/.venv/lib/python3.10/site-packages (from scikit-learn->meg_decoding_tools==0.0.1) (1.3.2)\n",
      "Requirement already satisfied: threadpoolctl>=2.0.0 in /Users/ladislas/Desktop/meg_decoding_tools/.venv/lib/python3.10/site-packages (from scikit-learn->meg_decoding_tools==0.0.1) (3.2.0)\n",
      "Requirement already satisfied: platformdirs>=2.5.0 in /Users/ladislas/Desktop/meg_decoding_tools/.venv/lib/python3.10/site-packages (from pooch>=1.5->mne->meg_decoding_tools==0.0.1) (4.1.0)\n",
      "Requirement already satisfied: requests>=2.19.0 in /Users/ladislas/Desktop/meg_decoding_tools/.venv/lib/python3.10/site-packages (from pooch>=1.5->mne->meg_decoding_tools==0.0.1) (2.31.0)\n",
      "Requirement already satisfied: six>=1.5 in /Users/ladislas/Desktop/meg_decoding_tools/.venv/lib/python3.10/site-packages (from python-dateutil>=2.7->matplotlib>=3.5.0->meg_decoding_tools==0.0.1) (1.16.0)\n",
      "Requirement already satisfied: MarkupSafe>=2.0 in /Users/ladislas/Desktop/meg_decoding_tools/.venv/lib/python3.10/site-packages (from jinja2->mne->meg_decoding_tools==0.0.1) (2.1.4)\n",
      "Requirement already satisfied: charset-normalizer<4,>=2 in /Users/ladislas/Desktop/meg_decoding_tools/.venv/lib/python3.10/site-packages (from requests>=2.19.0->pooch>=1.5->mne->meg_decoding_tools==0.0.1) (3.3.2)\n",
      "Requirement already satisfied: idna<4,>=2.5 in /Users/ladislas/Desktop/meg_decoding_tools/.venv/lib/python3.10/site-packages (from requests>=2.19.0->pooch>=1.5->mne->meg_decoding_tools==0.0.1) (3.6)\n",
      "Requirement already satisfied: urllib3<3,>=1.21.1 in /Users/ladislas/Desktop/meg_decoding_tools/.venv/lib/python3.10/site-packages (from requests>=2.19.0->pooch>=1.5->mne->meg_decoding_tools==0.0.1) (2.1.0)\n",
      "Requirement already satisfied: certifi>=2017.4.17 in /Users/ladislas/Desktop/meg_decoding_tools/.venv/lib/python3.10/site-packages (from requests>=2.19.0->pooch>=1.5->mne->meg_decoding_tools==0.0.1) (2023.11.17)\n",
      "Collecting git+https://github.com/mitchellostrow/DSA\n",
      "  Cloning https://github.com/mitchellostrow/DSA to /private/var/folders/yp/p14xyqpj5l3bnhqhhfk5qhqr0000gn/T/pip-req-build-sw1ltvku\n",
      "  Running command git clone --filter=blob:none --quiet https://github.com/mitchellostrow/DSA /private/var/folders/yp/p14xyqpj5l3bnhqhhfk5qhqr0000gn/T/pip-req-build-sw1ltvku\n",
      "  Resolved https://github.com/mitchellostrow/DSA to commit 08551ebdf9d21cd5cba2af28e6ed4614fd9c2306\n",
      "  Installing build dependencies ... \u001b[?25ldone\n",
      "\u001b[?25h  Getting requirements to build wheel ... \u001b[?25ldone\n",
      "\u001b[?25h  Preparing metadata (pyproject.toml) ... \u001b[?25ldone\n",
      "\u001b[?25hRequirement already satisfied: numpy>=1.24.0 in /Users/ladislas/Desktop/meg_decoding_tools/.venv/lib/python3.10/site-packages (from DSA==1.0.1) (1.26.3)\n",
      "Requirement already satisfied: torch>=1.3.0 in /Users/ladislas/Desktop/meg_decoding_tools/.venv/lib/python3.10/site-packages (from DSA==1.0.1) (2.2.0)\n",
      "Requirement already satisfied: kooplearn>=1.0.6 in /Users/ladislas/Desktop/meg_decoding_tools/.venv/lib/python3.10/site-packages (from DSA==1.0.1) (1.0.6)\n",
      "Requirement already satisfied: scikit-learn in /Users/ladislas/Desktop/meg_decoding_tools/.venv/lib/python3.10/site-packages (from kooplearn>=1.0.6->DSA==1.0.1) (1.4.0)\n",
      "Requirement already satisfied: scipy in /Users/ladislas/Desktop/meg_decoding_tools/.venv/lib/python3.10/site-packages (from kooplearn>=1.0.6->DSA==1.0.1) (1.12.0)\n",
      "Requirement already satisfied: tqdm in /Users/ladislas/Desktop/meg_decoding_tools/.venv/lib/python3.10/site-packages (from kooplearn>=1.0.6->DSA==1.0.1) (4.66.1)\n",
      "Requirement already satisfied: filelock in /Users/ladislas/Desktop/meg_decoding_tools/.venv/lib/python3.10/site-packages (from torch>=1.3.0->DSA==1.0.1) (3.13.1)\n",
      "Requirement already satisfied: typing-extensions>=4.8.0 in /Users/ladislas/Desktop/meg_decoding_tools/.venv/lib/python3.10/site-packages (from torch>=1.3.0->DSA==1.0.1) (4.9.0)\n",
      "Requirement already satisfied: sympy in /Users/ladislas/Desktop/meg_decoding_tools/.venv/lib/python3.10/site-packages (from torch>=1.3.0->DSA==1.0.1) (1.12)\n",
      "Requirement already satisfied: networkx in /Users/ladislas/Desktop/meg_decoding_tools/.venv/lib/python3.10/site-packages (from torch>=1.3.0->DSA==1.0.1) (3.2.1)\n",
      "Requirement already satisfied: jinja2 in /Users/ladislas/Desktop/meg_decoding_tools/.venv/lib/python3.10/site-packages (from torch>=1.3.0->DSA==1.0.1) (3.1.3)\n",
      "Requirement already satisfied: fsspec in /Users/ladislas/Desktop/meg_decoding_tools/.venv/lib/python3.10/site-packages (from torch>=1.3.0->DSA==1.0.1) (2023.12.2)\n",
      "Requirement already satisfied: MarkupSafe>=2.0 in /Users/ladislas/Desktop/meg_decoding_tools/.venv/lib/python3.10/site-packages (from jinja2->torch>=1.3.0->DSA==1.0.1) (2.1.4)\n",
      "Requirement already satisfied: joblib>=1.2.0 in /Users/ladislas/Desktop/meg_decoding_tools/.venv/lib/python3.10/site-packages (from scikit-learn->kooplearn>=1.0.6->DSA==1.0.1) (1.3.2)\n",
      "Requirement already satisfied: threadpoolctl>=2.0.0 in /Users/ladislas/Desktop/meg_decoding_tools/.venv/lib/python3.10/site-packages (from scikit-learn->kooplearn>=1.0.6->DSA==1.0.1) (3.2.0)\n",
      "Requirement already satisfied: mpmath>=0.19 in /Users/ladislas/Desktop/meg_decoding_tools/.venv/lib/python3.10/site-packages (from sympy->torch>=1.3.0->DSA==1.0.1) (1.3.0)\n"
     ]
    }
   ],
   "source": [
    "! pip install git+https://github.com/lnalborczyk/meg_decoding_tools\n",
    "! pip install git+https://github.com/mitchellostrow/DSA"
   ]
  },
  {
   "cell_type": "code",
   "execution_count": 16,
   "metadata": {},
   "outputs": [],
   "source": [
    "import mne\n",
    "import numpy as np\n",
    "from meeg.decoding import time_decode\n",
    "from meeg.decoding import prep_data_for_decoding"
   ]
  },
  {
   "cell_type": "code",
   "execution_count": 17,
   "metadata": {},
   "outputs": [
    {
     "name": "stdout",
     "output_type": "stream",
     "text": [
      "Reading /Users/ladislas/Desktop/meg_decoding_tools/examples/../src/meeg/data/visual_4l2s.fif ...\n",
      "    Found the data of interest:\n",
      "        t =    -200.00 ...     800.00 ms\n",
      "        0 CTF compensation matrices available\n"
     ]
    },
    {
     "name": "stderr",
     "output_type": "stream",
     "text": [
      "/var/folders/yp/p14xyqpj5l3bnhqhhfk5qhqr0000gn/T/ipykernel_46834/4242138223.py:2: RuntimeWarning: This filename (../src/meeg/data/visual_4l2s.fif) does not conform to MNE naming conventions. All epochs files should end with -epo.fif, -epo.fif.gz, _epo.fif or _epo.fif.gz\n",
      "  visual_4l2s = mne.read_epochs(\"../src/meeg/data/visual_4l2s.fif\")\n"
     ]
    },
    {
     "name": "stdout",
     "output_type": "stream",
     "text": [
      "Adding metadata with 13 columns\n",
      "160 matching events found\n",
      "No baseline correction applied\n",
      "0 projection items activated\n",
      "Reading /Users/ladislas/Desktop/meg_decoding_tools/examples/../src/meeg/data/visual_7l2s.fif ...\n",
      "    Found the data of interest:\n",
      "        t =    -200.00 ...     800.00 ms\n",
      "        0 CTF compensation matrices available\n"
     ]
    },
    {
     "name": "stderr",
     "output_type": "stream",
     "text": [
      "/var/folders/yp/p14xyqpj5l3bnhqhhfk5qhqr0000gn/T/ipykernel_46834/4242138223.py:3: RuntimeWarning: This filename (../src/meeg/data/visual_7l2s.fif) does not conform to MNE naming conventions. All epochs files should end with -epo.fif, -epo.fif.gz, _epo.fif or _epo.fif.gz\n",
      "  visual_7l2s = mne.read_epochs(\"../src/meeg/data/visual_7l2s.fif\")\n"
     ]
    },
    {
     "name": "stdout",
     "output_type": "stream",
     "text": [
      "Adding metadata with 13 columns\n",
      "159 matching events found\n",
      "No baseline correction applied\n",
      "0 projection items activated\n"
     ]
    }
   ],
   "source": [
    "# importing the examplary data (MNE epochs of MEG data)\n",
    "visual_4l2s = mne.read_epochs(\"../src/meeg/data/visual_4l2s.fif\")\n",
    "visual_7l2s = mne.read_epochs(\"../src/meeg/data/visual_7l2s.fif\")"
   ]
  },
  {
   "cell_type": "code",
   "execution_count": 18,
   "metadata": {},
   "outputs": [
    {
     "name": "stdout",
     "output_type": "stream",
     "text": [
      "Adding metadata with 13 columns\n",
      "319 matching events found\n",
      "No baseline correction applied\n",
      "Original shape of the MEG data: (319, 306, 251)\n",
      "Length of the labels to be predicted: 319\n"
     ]
    },
    {
     "name": "stderr",
     "output_type": "stream",
     "text": [
      "/Users/ladislas/Desktop/meg_decoding_tools/.venv/lib/python3.10/site-packages/meeg/decoding/prepare.py:170: FutureWarning: The current default of copy=False will change to copy=True in 1.7. Set the value of copy explicitly to avoid this warning\n",
      "  X = epochs.get_data()\n"
     ]
    },
    {
     "name": "stdout",
     "output_type": "stream",
     "text": [
      "Moving average applied with kernel size: 5\n",
      "PCA explained variance:0.989\n"
     ]
    },
    {
     "name": "stderr",
     "output_type": "stream",
     "text": [
      "[Parallel(n_jobs=-1)]: Using backend LokyBackend with 8 concurrent workers.\n",
      "\n",
      "  0%|          | Fitting SlidingEstimator : 0/251 [00:00<?,       ?it/s]\u001b[A\n",
      "  4%|▍         | Fitting SlidingEstimator : 10/251 [00:00<00:02,   93.67it/s]\u001b[A\n",
      "\n",
      "  0%|          | Fitting SlidingEstimator : 0/251 [00:00<?,       ?it/s]\u001b[A\u001b[A\n",
      "  8%|▊         | Fitting SlidingEstimator : 21/251 [00:00<00:01,  141.38it/s]\u001b[A\n",
      " 12%|█▏        | Fitting SlidingEstimator : 29/251 [00:00<00:01,  153.39it/s]\u001b[A\n",
      "\n",
      "  1%|          | Fitting SlidingEstimator : 2/251 [00:00<00:07,   31.31it/s]\u001b[A\u001b[A\n",
      " 16%|█▌        | Fitting SlidingEstimator : 39/251 [00:00<00:01,  170.77it/s]\u001b[A\n",
      "\n",
      "  5%|▌         | Fitting SlidingEstimator : 13/251 [00:00<00:02,  111.52it/s]\u001b[A\u001b[A\n",
      " 19%|█▉        | Fitting SlidingEstimator : 48/251 [00:00<00:01,  178.53it/s]\u001b[A\n",
      "\n",
      "  9%|▉         | Fitting SlidingEstimator : 23/251 [00:00<00:01,  144.82it/s]\n",
      "\n",
      "\n",
      "  0%|          | Fitting SlidingEstimator : 0/251 [00:00<?,       ?it/s]\u001b[A\u001b[A\u001b[A\n",
      " 23%|██▎       | Fitting SlidingEstimator : 58/251 [00:00<00:01,  189.23it/s]\u001b[A\n",
      "\n",
      " 14%|█▍        | Fitting SlidingEstimator : 35/251 [00:00<00:01,  170.34it/s]\u001b[A\u001b[A\n",
      " 27%|██▋       | Fitting SlidingEstimator : 67/251 [00:00<00:00,  194.82it/s]\u001b[A\n",
      "\n",
      "\n",
      "  0%|          | Fitting SlidingEstimator : 1/251 [00:00<00:15,   16.30it/s]\u001b[A\u001b[A\u001b[A\n",
      "\n",
      "\n",
      " 18%|█▊        | Fitting SlidingEstimator : 45/251 [00:00<00:01,  182.08it/s]\u001b[A\u001b[A\n",
      "\n",
      "\n",
      "  4%|▍         | Fitting SlidingEstimator : 11/251 [00:00<00:02,  109.80it/s]\u001b[A\u001b[A\u001b[A\n",
      "\n",
      " 21%|██        | Fitting SlidingEstimator : 52/251 [00:00<00:01,  176.70it/s]\u001b[A\u001b[A\n",
      "\n",
      "\n",
      "  6%|▋         | Fitting SlidingEstimator : 16/251 [00:00<00:02,  115.12it/s]\u001b[A\u001b[A\u001b[A\n",
      " 35%|███▍      | Fitting SlidingEstimator : 87/251 [00:00<00:00,  195.92it/s]\u001b[A\n",
      "\n",
      " 24%|██▍       | Fitting SlidingEstimator : 61/251 [00:00<00:01,  177.89it/s]\u001b[A\u001b[A\n",
      "\n",
      "\n",
      " 10%|▉         | Fitting SlidingEstimator : 25/251 [00:00<00:01,  137.80it/s]\n",
      " 38%|███▊      | Fitting SlidingEstimator : 96/251 [00:00<00:00,  197.35it/s]\u001b[A\u001b[A\u001b[A\u001b[A\n",
      "\n",
      " 28%|██▊       | Fitting SlidingEstimator : 71/251 [00:00<00:00,  184.00it/s]\u001b[A\u001b[A\n",
      " 41%|████      | Fitting SlidingEstimator : 103/251 [00:00<00:00,  196.43it/s]\u001b[A\n",
      "\n",
      "\n",
      " 14%|█▍        | Fitting SlidingEstimator : 35/251 [00:00<00:01,  154.10it/s]\u001b[A\u001b[A\u001b[A\n",
      "\n",
      " 32%|███▏      | Fitting SlidingEstimator : 80/251 [00:00<00:00,  188.75it/s]\u001b[A\u001b[A\n",
      " 45%|████▌     | Fitting SlidingEstimator : 114/251 [00:00<00:00,  202.45it/s]\u001b[A\n",
      "\n",
      "\n",
      " 18%|█▊        | Fitting SlidingEstimator : 45/251 [00:00<00:01,  169.98it/s]\u001b[A\u001b[A\u001b[A\n",
      "\n",
      " 34%|███▍      | Fitting SlidingEstimator : 86/251 [00:00<00:00,  185.88it/s]\u001b[A\u001b[A\n",
      " 47%|████▋     | Fitting SlidingEstimator : 119/251 [00:00<00:00,  197.03it/s]\u001b[A\n",
      "\n",
      "\n",
      " 22%|██▏       | Fitting SlidingEstimator : 54/251 [00:00<00:01,  175.55it/s]\u001b[A\u001b[A\u001b[A\n",
      "\n",
      " 37%|███▋      | Fitting SlidingEstimator : 92/251 [00:00<00:00,  184.43it/s]\u001b[A\u001b[A\n",
      " 51%|█████     | Fitting SlidingEstimator : 127/251 [00:00<00:00,  197.82it/s]\u001b[A\n",
      "\n",
      "\n",
      " 24%|██▍       | Fitting SlidingEstimator : 60/251 [00:00<00:01,  173.71it/s]\u001b[A\u001b[A\u001b[A\n",
      "\n",
      " 39%|███▉      | Fitting SlidingEstimator : 99/251 [00:00<00:00,  185.37it/s]\u001b[A\u001b[A\n",
      " 53%|█████▎    | Fitting SlidingEstimator : 134/251 [00:00<00:00,  196.54it/s]\u001b[A\n",
      "\n",
      "\n",
      " 27%|██▋       | Fitting SlidingEstimator : 67/251 [00:00<00:01,  174.25it/s]\u001b[A\u001b[A\u001b[A\n",
      "\n",
      " 44%|████▍     | Fitting SlidingEstimator : 111/251 [00:00<00:00,  195.37it/s]\u001b[A\u001b[A\n",
      " 57%|█████▋    | Fitting SlidingEstimator : 142/251 [00:00<00:00,  196.67it/s]\u001b[A\n",
      "\n",
      "\n",
      " 31%|███       | Fitting SlidingEstimator : 78/251 [00:00<00:00,  184.24it/s]\u001b[A\u001b[A\u001b[A\n",
      "\n",
      " 48%|████▊     | Fitting SlidingEstimator : 120/251 [00:00<00:00,  198.25it/s]\u001b[A\u001b[A\n",
      " 61%|██████    | Fitting SlidingEstimator : 152/251 [00:00<00:00,  202.34it/s]\u001b[A\n",
      "\n",
      "\n",
      " 35%|███▍      | Fitting SlidingEstimator : 87/251 [00:00<00:00,  187.29it/s]\u001b[A\u001b[A\u001b[A\n",
      "\n",
      " 52%|█████▏    | Fitting SlidingEstimator : 131/251 [00:00<00:00,  202.69it/s]\u001b[A\u001b[A\n",
      " 65%|██████▍   | Fitting SlidingEstimator : 163/251 [00:00<00:00,  204.96it/s]\u001b[A\n",
      "\n",
      "\n",
      "\n",
      "\n",
      " 40%|███▉      | Fitting SlidingEstimator : 100/251 [00:00<00:00,  193.49it/s]\u001b[A\u001b[A\u001b[A\n",
      " 69%|██████▊   | Fitting SlidingEstimator : 172/251 [00:00<00:00,  203.79it/s]\u001b[A\n",
      "\n",
      "\n",
      "\n",
      "\n",
      " 60%|█████▉    | Fitting SlidingEstimator : 150/251 [00:00<00:00,  204.89it/s]\u001b[A\u001b[A\u001b[A\u001b[A\u001b[A\n",
      " 72%|███████▏  | Fitting SlidingEstimator : 181/251 [00:00<00:00,  205.04it/s]\u001b[A\n",
      "\n",
      " 64%|██████▍   | Fitting SlidingEstimator : 161/251 [00:00<00:00,  210.41it/s]\n",
      "\n",
      "\n",
      " 49%|████▊     | Fitting SlidingEstimator : 122/251 [00:00<00:00,  200.50it/s]\u001b[A\u001b[A\u001b[A\n",
      " 76%|███████▌  | Fitting SlidingEstimator : 191/251 [00:00<00:00,  208.06it/s]\u001b[A\n",
      "\n",
      " 68%|██████▊   | Fitting SlidingEstimator : 170/251 [00:00<00:00,  210.36it/s]\u001b[A\u001b[A\n",
      "\n",
      "\n",
      " 53%|█████▎    | Fitting SlidingEstimator : 133/251 [00:00<00:00,  205.48it/s]\u001b[A\u001b[A\u001b[A\n",
      " 81%|████████▏ | Fitting SlidingEstimator : 204/251 [00:00<00:00,  213.31it/s]\u001b[A\n",
      "\n",
      "\n",
      " 56%|█████▌    | Fitting SlidingEstimator : 140/251 [00:00<00:00,  203.72it/s]\u001b[A\u001b[A\u001b[A\n",
      "\n",
      " 71%|███████▏  | Fitting SlidingEstimator : 179/251 [00:00<00:00,  209.63it/s]\u001b[A\u001b[A\n",
      " 84%|████████▍ | Fitting SlidingEstimator : 212/251 [00:01<00:00,  209.47it/s]\u001b[A\n",
      "\n",
      "\n",
      " 58%|█████▊    | Fitting SlidingEstimator : 146/251 [00:00<00:00,  200.15it/s]\u001b[A\u001b[A\u001b[A\n",
      "\n",
      " 75%|███████▍  | Fitting SlidingEstimator : 187/251 [00:00<00:00,  206.01it/s]\u001b[A\u001b[A\n",
      " 89%|████████▉ | Fitting SlidingEstimator : 223/251 [00:01<00:00,  205.89it/s]\u001b[A\n",
      "\n",
      "\n",
      " 63%|██████▎   | Fitting SlidingEstimator : 158/251 [00:00<00:00,  201.42it/s]\u001b[A\u001b[A\u001b[A\n",
      "\n",
      " 79%|███████▉  | Fitting SlidingEstimator : 198/251 [00:00<00:00,  204.98it/s]\u001b[A\u001b[A\n",
      " 92%|█████████▏| Fitting SlidingEstimator : 231/251 [00:01<00:00,  206.38it/s]\u001b[A\n",
      "\n",
      "\n",
      " 65%|██████▌   | Fitting SlidingEstimator : 164/251 [00:00<00:00,  198.26it/s]\u001b[A\u001b[A\u001b[A\n",
      "\n",
      " 81%|████████  | Fitting SlidingEstimator : 203/251 [00:01<00:00,  201.78it/s]\u001b[A\u001b[A\n",
      " 95%|█████████▌| Fitting SlidingEstimator : 239/251 [00:01<00:00,  207.46it/s]\u001b[A\n",
      "\n",
      "\n",
      " 69%|██████▊   | Fitting SlidingEstimator : 172/251 [00:00<00:00,  199.03it/s]\u001b[A\u001b[A\u001b[A\n",
      "\n",
      " 84%|████████▎ | Fitting SlidingEstimator : 210/251 [00:01<00:00,  199.97it/s]\u001b[A\u001b[A\n",
      " 99%|█████████▉| Fitting SlidingEstimator : 248/251 [00:01<00:00,  209.18it/s]\u001b[A\n",
      "\n",
      "\n",
      " 72%|███████▏  | Fitting SlidingEstimator : 180/251 [00:00<00:00,  199.01it/s]\u001b[A\u001b[A\u001b[A\n",
      "100%|██████████| Fitting SlidingEstimator : 251/251 [00:01<00:00,  203.68it/s]\u001b[A\n",
      "\n",
      "\n",
      " 87%|████████▋ | Fitting SlidingEstimator : 218/251 [00:01<00:00,  200.53it/s]\u001b[A\u001b[A\n",
      "\n",
      "\n",
      " 75%|███████▍  | Fitting SlidingEstimator : 187/251 [00:00<00:00,  198.89it/s]\u001b[A\u001b[A\u001b[A\n",
      "\n",
      " 90%|█████████ | Fitting SlidingEstimator : 226/251 [00:01<00:00,  201.01it/s]\u001b[A\u001b[A\n",
      "\n",
      "\n",
      " 77%|███████▋  | Fitting SlidingEstimator : 193/251 [00:00<00:00,  197.00it/s]\u001b[A\u001b[A\u001b[A\n",
      "\n",
      " 92%|█████████▏| Fitting SlidingEstimator : 232/251 [00:01<00:00,  199.23it/s]\u001b[A\u001b[A\n",
      "\n",
      "\n",
      " 80%|████████  | Fitting SlidingEstimator : 202/251 [00:01<00:00,  199.52it/s]\u001b[A\u001b[A\u001b[A\n",
      "\n",
      " 97%|█████████▋| Fitting SlidingEstimator : 243/251 [00:01<00:00,  204.71it/s]\u001b[A\u001b[A\n",
      "\n",
      "\n",
      " 84%|████████▎ | Fitting SlidingEstimator : 210/251 [00:01<00:00,  199.15it/s]\u001b[A\u001b[A\u001b[A\n",
      "\n",
      "100%|██████████| Fitting SlidingEstimator : 251/251 [00:01<00:00,  199.80it/s]\u001b[A\u001b[A\n",
      "\n",
      "\n",
      "\n",
      " 88%|████████▊ | Fitting SlidingEstimator : 222/251 [00:01<00:00,  205.42it/s]\u001b[A\u001b[A\u001b[A\n",
      "\n",
      "\n",
      " 93%|█████████▎| Fitting SlidingEstimator : 233/251 [00:01<00:00,  204.52it/s]\u001b[A\u001b[A\u001b[A\n",
      "\n",
      "\n",
      " 97%|█████████▋| Fitting SlidingEstimator : 243/251 [00:01<00:00,  205.93it/s]\u001b[A\u001b[A\u001b[A\n",
      "\n",
      "\n",
      "100%|██████████| Fitting SlidingEstimator : 251/251 [00:01<00:00,  199.93it/s]\u001b[A\u001b[A\u001b[A\n",
      " 51%|█████▏    | Fitting SlidingEstimator : 129/251 [00:00<00:00,  208.60it/s][Parallel(n_jobs=-1)]: Done   2 out of   4 | elapsed:    2.8s remaining:    2.8s\n",
      "100%|██████████| Fitting SlidingEstimator : 251/251 [00:01<00:00,  232.92it/s]\n",
      "[Parallel(n_jobs=-1)]: Done   4 out of   4 | elapsed:    4.0s finished\n"
     ]
    }
   ],
   "source": [
    "# for decoding, we'll keep only two categories and concatenate those\n",
    "decoding_epochs = mne.concatenate_epochs(\n",
    "    epochs_list=[visual_4l2s, visual_7l2s],\n",
    "    add_offset=True, on_mismatch=\"raise\", verbose=None\n",
    "    )\n",
    "\n",
    "# preparing MNE epochs and labels for decoding\n",
    "X, y = prep_data_for_decoding(\n",
    "    epochs=decoding_epochs,\n",
    "    pca=True, n_components=60,\n",
    "    moving_average=True, kernel_size=5,\n",
    "    trials_averaging=False, ntrials=2, shuffling_or_not=True\n",
    ")"
   ]
  },
  {
   "cell_type": "code",
   "execution_count": null,
   "metadata": {},
   "outputs": [],
   "source": [
    "# decoding time!\n",
    "scores, time_decod = time_decode(meg_data=X, labels=y)"
   ]
  },
  {
   "cell_type": "code",
   "execution_count": 14,
   "metadata": {},
   "outputs": [
    {
     "ename": "ImportError",
     "evalue": "cannot import name 'compare_pca_through_time' from partially initialized module 'meeg.latent' (most likely due to a circular import) (/Users/ladislas/Desktop/meg_decoding_tools/.venv/lib/python3.10/site-packages/meeg/latent/__init__.py)",
     "output_type": "error",
     "traceback": [
      "\u001b[0;31m---------------------------------------------------------------------------\u001b[0m",
      "\u001b[0;31mImportError\u001b[0m                               Traceback (most recent call last)",
      "Cell \u001b[0;32mIn[14], line 1\u001b[0m\n\u001b[0;32m----> 1\u001b[0m \u001b[38;5;28;01mfrom\u001b[39;00m \u001b[38;5;21;01mmeeg\u001b[39;00m\u001b[38;5;21;01m.\u001b[39;00m\u001b[38;5;21;01mplots\u001b[39;00m \u001b[38;5;28;01mimport\u001b[39;00m plotting_decoding_scores\n\u001b[1;32m      3\u001b[0m \u001b[38;5;66;03m# plotting the decoding accuracy over time\u001b[39;00m\n\u001b[1;32m      4\u001b[0m plotting_decoding_scores(\n\u001b[1;32m      5\u001b[0m     decoding_scores\u001b[38;5;241m=\u001b[39mscores,\n\u001b[1;32m      6\u001b[0m     x_ticks\u001b[38;5;241m=\u001b[39mdecoding_epochs\u001b[38;5;241m.\u001b[39mtimes,\n\u001b[1;32m      7\u001b[0m     end_stim\u001b[38;5;241m=\u001b[39m\u001b[38;5;241m0.2\u001b[39m,\n\u001b[1;32m      8\u001b[0m     plot_title\u001b[38;5;241m=\u001b[39m\u001b[38;5;124m\"\u001b[39m\u001b[38;5;124mSensor space decoding\u001b[39m\u001b[38;5;124m\"\u001b[39m\n\u001b[1;32m      9\u001b[0m )\n",
      "File \u001b[0;32m~/Desktop/meg_decoding_tools/.venv/lib/python3.10/site-packages/meeg/__init__.py:2\u001b[0m\n\u001b[1;32m      1\u001b[0m \u001b[38;5;28;01mfrom\u001b[39;00m \u001b[38;5;21;01m.\u001b[39;00m\u001b[38;5;21;01mdecoding\u001b[39;00m \u001b[38;5;28;01mimport\u001b[39;00m \u001b[38;5;241m*\u001b[39m\n\u001b[0;32m----> 2\u001b[0m \u001b[38;5;28;01mfrom\u001b[39;00m \u001b[38;5;21;01m.\u001b[39;00m\u001b[38;5;21;01mlatent\u001b[39;00m \u001b[38;5;28;01mimport\u001b[39;00m \u001b[38;5;241m*\u001b[39m\n\u001b[1;32m      3\u001b[0m \u001b[38;5;28;01mfrom\u001b[39;00m \u001b[38;5;21;01m.\u001b[39;00m\u001b[38;5;21;01mplots\u001b[39;00m \u001b[38;5;28;01mimport\u001b[39;00m \u001b[38;5;241m*\u001b[39m\n\u001b[1;32m      4\u001b[0m \u001b[38;5;28;01mfrom\u001b[39;00m \u001b[38;5;21;01m.\u001b[39;00m\u001b[38;5;21;01mstats\u001b[39;00m \u001b[38;5;28;01mimport\u001b[39;00m \u001b[38;5;241m*\u001b[39m\n",
      "File \u001b[0;32m~/Desktop/meg_decoding_tools/.venv/lib/python3.10/site-packages/meeg/latent/__init__.py:1\u001b[0m\n\u001b[0;32m----> 1\u001b[0m \u001b[38;5;28;01mfrom\u001b[39;00m \u001b[38;5;21;01m.\u001b[39;00m\u001b[38;5;21;01mdsa\u001b[39;00m \u001b[38;5;28;01mimport\u001b[39;00m dsa\n\u001b[1;32m      2\u001b[0m \u001b[38;5;28;01mfrom\u001b[39;00m \u001b[38;5;21;01m.\u001b[39;00m\u001b[38;5;21;01membeddings\u001b[39;00m \u001b[38;5;28;01mimport\u001b[39;00m perform_mds\n\u001b[1;32m      3\u001b[0m \u001b[38;5;28;01mfrom\u001b[39;00m \u001b[38;5;21;01m.\u001b[39;00m\u001b[38;5;21;01membeddings\u001b[39;00m \u001b[38;5;28;01mimport\u001b[39;00m compute_similarity\n",
      "File \u001b[0;32m~/Desktop/meg_decoding_tools/.venv/lib/python3.10/site-packages/meeg/latent/dsa.py:3\u001b[0m\n\u001b[1;32m      1\u001b[0m \u001b[38;5;28;01mfrom\u001b[39;00m \u001b[38;5;21;01mDSA\u001b[39;00m\u001b[38;5;21;01m.\u001b[39;00m\u001b[38;5;21;01mdmd\u001b[39;00m \u001b[38;5;28;01mimport\u001b[39;00m DMD\n\u001b[1;32m      2\u001b[0m \u001b[38;5;28;01mfrom\u001b[39;00m \u001b[38;5;21;01mDSA\u001b[39;00m\u001b[38;5;21;01m.\u001b[39;00m\u001b[38;5;21;01mstats\u001b[39;00m \u001b[38;5;28;01mimport\u001b[39;00m \u001b[38;5;241m*\u001b[39m\n\u001b[0;32m----> 3\u001b[0m \u001b[38;5;28;01mfrom\u001b[39;00m \u001b[38;5;21;01mmeeg\u001b[39;00m\u001b[38;5;21;01m.\u001b[39;00m\u001b[38;5;21;01mlatent\u001b[39;00m \u001b[38;5;28;01mimport\u001b[39;00m compare_pca_through_time\n\u001b[1;32m      6\u001b[0m \u001b[38;5;28;01mdef\u001b[39;00m \u001b[38;5;21mdsa\u001b[39m(epochs1, epochs2, n_delays\u001b[38;5;241m=\u001b[39m\u001b[38;5;241m10\u001b[39m, pca_components\u001b[38;5;241m=\u001b[39m\u001b[38;5;241m10\u001b[39m, verbose\u001b[38;5;241m=\u001b[39m\u001b[38;5;28;01mFalse\u001b[39;00m):\n\u001b[1;32m      7\u001b[0m \u001b[38;5;250m    \u001b[39m\u001b[38;5;124;03m'''\u001b[39;00m\n\u001b[1;32m      8\u001b[0m \u001b[38;5;124;03m    computing dynamical similarity between neural trajectories\u001b[39;00m\n\u001b[1;32m      9\u001b[0m \u001b[38;5;124;03m    see https://github.com/mitchellostrow/DSA/tree/main\u001b[39;00m\n\u001b[1;32m     10\u001b[0m \u001b[38;5;124;03m    '''\u001b[39;00m\n",
      "\u001b[0;31mImportError\u001b[0m: cannot import name 'compare_pca_through_time' from partially initialized module 'meeg.latent' (most likely due to a circular import) (/Users/ladislas/Desktop/meg_decoding_tools/.venv/lib/python3.10/site-packages/meeg/latent/__init__.py)"
     ]
    }
   ],
   "source": [
    "from meeg.plots import plotting_decoding_scores\n",
    "\n",
    "# plotting the decoding accuracy over time\n",
    "plotting_decoding_scores(\n",
    "    decoding_scores=scores,\n",
    "    x_ticks=decoding_epochs.times,\n",
    "    end_stim=0.2,\n",
    "    plot_title=\"Sensor space decoding\"\n",
    ")"
   ]
  },
  {
   "cell_type": "code",
   "execution_count": null,
   "metadata": {},
   "outputs": [],
   "source": []
  }
 ],
 "metadata": {
  "kernelspec": {
   "display_name": ".venv",
   "language": "python",
   "name": "python3"
  },
  "language_info": {
   "codemirror_mode": {
    "name": "ipython",
    "version": 3
   },
   "file_extension": ".py",
   "mimetype": "text/x-python",
   "name": "python",
   "nbconvert_exporter": "python",
   "pygments_lexer": "ipython3",
   "version": "3.10.0"
  }
 },
 "nbformat": 4,
 "nbformat_minor": 2
}
